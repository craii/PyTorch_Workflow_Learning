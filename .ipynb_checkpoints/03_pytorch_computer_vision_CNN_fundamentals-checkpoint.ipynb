{
 "cells": [
  {
   "cell_type": "markdown",
   "id": "4abdeed7-285d-42f2-b479-acb04e83c171",
   "metadata": {},
   "source": [
    "# Pytorch Computer Vision\n",
    "\n",
    "An introduction to **Computer Vision and & Convolutional Neural Network** \n",
    "\n",
    "Video resorce [Youtube Video 14:00:48](https://www.youtube.com/watch?v=V_xro1bcAuA&t=4949s)\n",
    "\n"
   ]
  },
  {
   "cell_type": "code",
   "execution_count": null,
   "id": "06a5f17f-8740-4616-bc58-faa9f8cd8cdc",
   "metadata": {},
   "outputs": [],
   "source": []
  }
 ],
 "metadata": {
  "kernelspec": {
   "display_name": "Python 3 (ipykernel)",
   "language": "python",
   "name": "python3"
  },
  "language_info": {
   "codemirror_mode": {
    "name": "ipython",
    "version": 3
   },
   "file_extension": ".py",
   "mimetype": "text/x-python",
   "name": "python",
   "nbconvert_exporter": "python",
   "pygments_lexer": "ipython3",
   "version": "3.11.5"
  }
 },
 "nbformat": 4,
 "nbformat_minor": 5
}
