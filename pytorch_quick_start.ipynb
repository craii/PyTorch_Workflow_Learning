{
 "cells": [
  {
   "cell_type": "markdown",
   "id": "72383861-5b83-41cb-9fca-29fee30ae3d9",
   "metadata": {},
   "source": [
    "# PyTorch tutorials quickstart\n",
    "web recources at  [Quickstart](https://pytorch.org/tutorials/beginner/basics/quickstart_tutorial.html)"
   ]
  },
  {
   "cell_type": "markdown",
   "id": "757e1fc1-58d1-4eb7-86c2-827815f73443",
   "metadata": {},
   "source": [
    "## Working with data\n",
    "PyTorch has two primitives to work with data: ```torch.utils.data.DataLoader``` and ```torch.utils.data.Dataset```. ```Dataset``` stores the samples and their corresponding labels, and DataLoader wraps an iterable around the Dataset."
   ]
  },
  {
   "cell_type": "code",
   "execution_count": 1,
   "id": "ef3541b6-d889-4156-b1a7-0e2772e1fd40",
   "metadata": {},
   "outputs": [],
   "source": [
    "import torch\n",
    "from torch import nn\n",
    "from torch.utils.data import DataLoader\n",
    "from torchvision import datasets\n",
    "from torchvision.transforms import ToTensor"
   ]
  },
  {
   "cell_type": "markdown",
   "id": "ffb11c23-248b-4306-a0b6-ada32ea1207c",
   "metadata": {},
   "source": [
    "## Download and store datasets\n",
    "\n",
    "we use the FashionMNIST dataset. Every ```TorchVision Dataset``` includes two arguments: ```transform``` and ```target_transform``` to modify the samples and labels respectively."
   ]
  },
  {
   "cell_type": "code",
   "execution_count": 2,
   "id": "8e04be96-b26e-4b75-8256-8aeb44beb0b7",
   "metadata": {},
   "outputs": [
    {
     "name": "stdout",
     "output_type": "stream",
     "text": [
      "/Users/eliascheung/Documents/LEARNING/pytorch_learning\n"
     ]
    }
   ],
   "source": [
    "# using FashionMNIST\n",
    "\n",
    "# Download training data from open datasets.\n",
    "# data will be download to \"/Users/eliascheung(YOUR NAME)/Data\" by default, you can modify it by \n",
    "# change the param : root, let's change it to \"./data\" --> same directory as this notebook\n",
    "\n",
    "from pathlib import Path\n",
    "\n",
    "working_dir = Path().cwd()\n",
    "print(working_dir)\n",
    "data_dir = working_dir / Path(\"data\") # ./data\n",
    "\n",
    "training_data = datasets.FashionMNIST(\n",
    "    root=data_dir,\n",
    "    train=True, # True for train and False for test\n",
    "    download=True,\n",
    "    transform=ToTensor(),\n",
    ")\n",
    "\n",
    "# Download test data from open datasets.\n",
    "test_data = datasets.FashionMNIST(\n",
    "    root=data_dir,\n",
    "    train=False, # True for train and False for test\n",
    "    download=True,\n",
    "    transform=ToTensor(),\n",
    ")"
   ]
  },
  {
   "cell_type": "markdown",
   "id": "4046217a-2241-4ac9-9340-9a57a9b498e2",
   "metadata": {},
   "source": [
    "## Pass dataset to DataLoader\n",
    "\n",
    "this operation wraps an iterable over our dataset, and supports automatic batching, sampling, shuffling and multiprocess data loading. "
   ]
  },
  {
   "cell_type": "code",
   "execution_count": 3,
   "id": "f80aaaaf-da30-4e85-b4c5-d4d04318e90a",
   "metadata": {},
   "outputs": [
    {
     "name": "stdout",
     "output_type": "stream",
     "text": [
      "Shape of X [N, C, H, W]: torch.Size([64, 1, 28, 28])\n",
      "Shape of y: torch.Size([64]) torch.int64\n"
     ]
    }
   ],
   "source": [
    "batch_size = 64\n",
    "\n",
    "# Create data loaders.\n",
    "train_dataloader = DataLoader(training_data, batch_size=batch_size)\n",
    "test_dataloader = DataLoader(test_data, batch_size=batch_size)\n",
    "\n",
    "for X, y in test_dataloader:\n",
    "    print(f\"Shape of X [N, C, H, W]: {X.shape}\")\n",
    "    print(f\"Shape of y: {y.shape} {y.dtype}\")\n",
    "    break\n",
    "\n",
    "# N: means batch size: \n",
    "# C: channel counts of an image \n",
    "# H: height of an image\n",
    "# W: width of an image\n",
    "\n",
    "# ToTensor():\n",
    "# Converts a PIL Image or numpy.ndarray (H x W x C) in the range [0, 255] to a \n",
    "# torch.FloatTensor of shape (C x H x W) in the range [0.0, 1.0] if the PIL Image \n",
    "# belongs to one of the modes (L, LA, P, I, F, RGB, YCbCr, RGBA, CMYK, 1) or \n",
    "# if the numpy.ndarray has dtype = np.uint8\n",
    "#In the other cases, tensors are returned without scaling\n",
    "#"
   ]
  },
  {
   "cell_type": "markdown",
   "id": "ae7918f0-faba-491c-8de3-6f0082ca96e0",
   "metadata": {},
   "source": [
    "## Creating Models\n",
    "To define a neural network in PyTorch, we create a class that inherits from ```nn.Module```. We define the layers of the network in the ```__init__``` function and specify how data will pass through the network in the ```forward``` function. "
   ]
  },
  {
   "cell_type": "code",
   "execution_count": 4,
   "id": "d7a9d65c-6af2-42cf-9158-153a6abdb286",
   "metadata": {},
   "outputs": [
    {
     "name": "stdout",
     "output_type": "stream",
     "text": [
      "mps if available\n"
     ]
    }
   ],
   "source": [
    "# specify device to run/accelerate models\n",
    "device = \"mps\" if torch.backends.mps.is_available() \\\n",
    "               else \"cuda\" if torch.cuda.is_available() \\\n",
    "               else \"cpu\"\n",
    "print(f\"{device} if available\")"
   ]
  },
  {
   "cell_type": "markdown",
   "id": "3643ccf8-6ac3-4246-bb62-5292bad57859",
   "metadata": {},
   "source": [
    "detailed doc seen at [Build the Neural Network](https://pytorch.org/tutorials/beginner/basics/buildmodel_tutorial.html)"
   ]
  },
  {
   "cell_type": "code",
   "execution_count": 5,
   "id": "acc15773-a6a2-4d3d-b9d2-07fd0b7cfde5",
   "metadata": {},
   "outputs": [
    {
     "name": "stdout",
     "output_type": "stream",
     "text": [
      "NeuralNetwork(\n",
      "  (flatten): Flatten(start_dim=1, end_dim=-1)\n",
      "  (linear_relu_stack): Sequential(\n",
      "    (0): Linear(in_features=784, out_features=512, bias=True)\n",
      "    (1): ReLU()\n",
      "    (2): Linear(in_features=512, out_features=512, bias=True)\n",
      "    (3): ReLU()\n",
      "    (4): Linear(in_features=512, out_features=10, bias=True)\n",
      "  )\n",
      ")\n"
     ]
    }
   ],
   "source": [
    "# Define model\n",
    "\n",
    "class NeuralNetwork(nn.Module):\n",
    "    def __init__(self):\n",
    "        super().__init__()\n",
    "        self.flatten = nn.Flatten()\n",
    "        self.linear_relu_stack = nn.Sequential(\n",
    "            nn.Linear(28*28, 512),\n",
    "            nn.ReLU(),\n",
    "            nn.Linear(512, 512),\n",
    "            nn.ReLU(),\n",
    "            nn.Linear(512, 10)\n",
    "        )\n",
    "\n",
    "    def forward(self, x):  \n",
    "        # Do not call model.forward() directly!\n",
    "        x = self.flatten(x)\n",
    "        logits = self.linear_relu_stack(x)\n",
    "        return logits\n",
    "\n",
    "# instantiate a model and move it to GPU if available\n",
    "model = NeuralNetwork().to(device)\n",
    "print(model)"
   ]
  },
  {
   "cell_type": "code",
   "execution_count": 6,
   "id": "d56fd187-bb85-4f14-b467-c4296c055ebc",
   "metadata": {},
   "outputs": [
    {
     "name": "stdout",
     "output_type": "stream",
     "text": [
      "784\n"
     ]
    }
   ],
   "source": [
    "print(28 * 28)"
   ]
  },
  {
   "cell_type": "markdown",
   "id": "51534306-eab3-46b0-98dc-cb441a38c5a6",
   "metadata": {},
   "source": [
    "## Training（Optimizing） the Model Parameters\n",
    "\n",
    "To train a model, we need a ```loss function``` [🔍](https://pytorch.org/docs/stable/nn.html#loss-functions) and an ```optimizer```[🔍](https://pytorch.org/docs/stable/optim.html)\n",
    "\n",
    "\n",
    "\n",
    "[nn.CrossEntropyLoss](https://pytorch.org/docs/stable/generated/torch.nn.CrossEntropyLoss.html#torch.nn.CrossEntropyLoss)\n",
    "\n",
    "[torch.optim.SGD](https://pytorch.org/docs/stable/generated/torch.optim.SGD.html#torch.optim.SGD)"
   ]
  },
  {
   "cell_type": "code",
   "execution_count": 7,
   "id": "6a9b7f8d-828e-4277-93f9-086802b504a8",
   "metadata": {},
   "outputs": [],
   "source": [
    "loss_fn = nn.CrossEntropyLoss()\n",
    "optimizer = torch.optim.SGD(model.parameters(), lr=1e-3)"
   ]
  },
  {
   "cell_type": "markdown",
   "id": "85ca5f03-a4eb-4bbd-8333-09a517818dc4",
   "metadata": {},
   "source": [
    "in a single training loop, the model makes predictions on the training dataset (fed to it in batches), and backpropagates the prediction error to adjust the model’s parameters."
   ]
  },
  {
   "cell_type": "code",
   "execution_count": 8,
   "id": "56861316-ecce-49f1-8c89-9b2226a1288c",
   "metadata": {},
   "outputs": [],
   "source": [
    "# train_dataloader = DataLoader(training_data, batch_size=batch_size)\n",
    "# test_dataloader = DataLoader(test_data, batch_size=batch_size)\n",
    "# train_dataloader and test_dataloader ---> dataloader params in train function and \n",
    "# test function\n",
    "\n",
    "def train(dataloader, model, loss_fn, optimizer):\n",
    "    size = len(dataloader.dataset)\n",
    "    model.train()\n",
    "    for batch, (X, y) in enumerate(dataloader):\n",
    "        # batch: index of (X, y) of dataloader(train_dataloader)\n",
    "        # X: train data tensors, y: label of X\n",
    "        X, y = X.to(device), y.to(device)\n",
    "\n",
    "        # Compute prediction error\n",
    "        pred = model(X)\n",
    "        loss = loss_fn(pred, y)\n",
    "\n",
    "        # Backpropagation\n",
    "        loss.backward()\n",
    "        optimizer.step()\n",
    "        optimizer.zero_grad()\n",
    "\n",
    "        if batch % 100 == 0:\n",
    "            loss, current = loss.item(), (batch + 1) * len(X)\n",
    "            print(f\"loss: {loss:>7f}  [{current:>5d}/{size:>5d}]\")"
   ]
  },
  {
   "cell_type": "markdown",
   "id": "715d7739-b57e-4ba4-809c-bb3fb5da6aa4",
   "metadata": {},
   "source": [
    "check the model’s performance against the test dataset to ensure it is learning."
   ]
  },
  {
   "cell_type": "code",
   "execution_count": 9,
   "id": "a52638de-8800-4fd3-bfce-bf321891d164",
   "metadata": {},
   "outputs": [],
   "source": [
    "def test(dataloader, model, loss_fn):\n",
    "    size = len(dataloader.dataset)\n",
    "    num_batches = len(dataloader)\n",
    "    model.eval()\n",
    "    test_loss, correct = 0, 0\n",
    "    with torch.no_grad():\n",
    "        for X, y in dataloader:\n",
    "            X, y = X.to(device), y.to(device)\n",
    "            pred = model(X)\n",
    "            test_loss += loss_fn(pred, y).item()\n",
    "            correct += (pred.argmax(1) == y).type(torch.float).sum().item()\n",
    "    test_loss /= num_batches\n",
    "    correct /= size\n",
    "    print(f\"Test Error: \\n Accuracy: {(100*correct):>0.1f}%, Avg loss: {test_loss:>8f} \\n\")"
   ]
  },
  {
   "cell_type": "markdown",
   "id": "04fc0be8-9761-45e8-a4d9-2de2e80dca77",
   "metadata": {},
   "source": [
    "The training process is conducted over several iterations (epochs). During each epoch, the model learns parameters to make better predictions. We print the model’s accuracy and loss at each epoch; we’d like to see the accuracy increase and the loss decrease with every epoch."
   ]
  },
  {
   "cell_type": "code",
   "execution_count": 10,
   "id": "0147c48d-909b-4ff5-a7f0-d858b0277edd",
   "metadata": {},
   "outputs": [
    {
     "name": "stdout",
     "output_type": "stream",
     "text": [
      "Epoch 1\n",
      "-------------------------------\n",
      "loss: 2.294050  [   64/60000]\n",
      "loss: 2.282475  [ 6464/60000]\n",
      "loss: 2.266765  [12864/60000]\n",
      "loss: 2.263417  [19264/60000]\n",
      "loss: 2.243523  [25664/60000]\n",
      "loss: 2.209604  [32064/60000]\n",
      "loss: 2.216442  [38464/60000]\n",
      "loss: 2.179053  [44864/60000]\n",
      "loss: 2.174889  [51264/60000]\n",
      "loss: 2.136566  [57664/60000]\n",
      "Test Error: \n",
      " Accuracy: 46.1%, Avg loss: 2.133237 \n",
      "\n",
      "Epoch 2\n",
      "-------------------------------\n",
      "loss: 2.141585  [   64/60000]\n",
      "loss: 2.135608  [ 6464/60000]\n",
      "loss: 2.068391  [12864/60000]\n",
      "loss: 2.088719  [19264/60000]\n",
      "loss: 2.034062  [25664/60000]\n",
      "loss: 1.962537  [32064/60000]\n",
      "loss: 1.990236  [38464/60000]\n",
      "loss: 1.897013  [44864/60000]\n",
      "loss: 1.907006  [51264/60000]\n",
      "loss: 1.829053  [57664/60000]\n",
      "Test Error: \n",
      " Accuracy: 56.4%, Avg loss: 1.827939 \n",
      "\n",
      "Epoch 3\n",
      "-------------------------------\n",
      "loss: 1.861624  [   64/60000]\n",
      "loss: 1.837426  [ 6464/60000]\n",
      "loss: 1.702784  [12864/60000]\n",
      "loss: 1.750888  [19264/60000]\n",
      "loss: 1.645854  [25664/60000]\n",
      "loss: 1.589526  [32064/60000]\n",
      "loss: 1.612144  [38464/60000]\n",
      "loss: 1.504991  [44864/60000]\n",
      "loss: 1.544523  [51264/60000]\n",
      "loss: 1.444324  [57664/60000]\n",
      "Test Error: \n",
      " Accuracy: 59.6%, Avg loss: 1.461170 \n",
      "\n",
      "Epoch 4\n",
      "-------------------------------\n",
      "loss: 1.529178  [   64/60000]\n",
      "loss: 1.505782  [ 6464/60000]\n",
      "loss: 1.342852  [12864/60000]\n",
      "loss: 1.424014  [19264/60000]\n",
      "loss: 1.318609  [25664/60000]\n",
      "loss: 1.305708  [32064/60000]\n",
      "loss: 1.324914  [38464/60000]\n",
      "loss: 1.240165  [44864/60000]\n",
      "loss: 1.288393  [51264/60000]\n",
      "loss: 1.203527  [57664/60000]\n",
      "Test Error: \n",
      " Accuracy: 62.7%, Avg loss: 1.220972 \n",
      "\n",
      "Epoch 5\n",
      "-------------------------------\n",
      "loss: 1.295669  [   64/60000]\n",
      "loss: 1.288874  [ 6464/60000]\n",
      "loss: 1.110771  [12864/60000]\n",
      "loss: 1.224079  [19264/60000]\n",
      "loss: 1.112224  [25664/60000]\n",
      "loss: 1.126014  [32064/60000]\n",
      "loss: 1.153558  [38464/60000]\n",
      "loss: 1.078066  [44864/60000]\n",
      "loss: 1.129900  [51264/60000]\n",
      "loss: 1.062012  [57664/60000]\n",
      "Test Error: \n",
      " Accuracy: 64.3%, Avg loss: 1.071978 \n",
      "\n",
      "Done!\n"
     ]
    }
   ],
   "source": [
    "epochs = 5\n",
    "for t in range(epochs):\n",
    "    print(f\"Epoch {t+1}\\n-------------------------------\")\n",
    "    train(train_dataloader, model, loss_fn, optimizer)\n",
    "    test(test_dataloader, model, loss_fn)\n",
    "print(\"Done!\")"
   ]
  },
  {
   "cell_type": "markdown",
   "id": "90759a7e-9853-4169-a9cb-3db696cb41c0",
   "metadata": {},
   "source": [
    "## Saving Models\n",
    "A common way to save a model is to serialize the internal state dictionary (containing the model parameters)."
   ]
  },
  {
   "cell_type": "code",
   "execution_count": 11,
   "id": "61459c57-2c95-44e0-b16a-3cfbaab81d32",
   "metadata": {},
   "outputs": [
    {
     "name": "stdout",
     "output_type": "stream",
     "text": [
      "Saved PyTorch Model State to model.pth\n"
     ]
    }
   ],
   "source": [
    "torch.save(model.state_dict(), \"model.pth\")\n",
    "print(\"Saved PyTorch Model State to model.pth\")"
   ]
  },
  {
   "cell_type": "markdown",
   "id": "947817a4-21ab-4b9e-8328-20341aceaaf5",
   "metadata": {},
   "source": [
    "## Loading Models\n",
    "The process for loading a model includes re-creating the model structure and loading the state dictionary into it."
   ]
  },
  {
   "cell_type": "code",
   "execution_count": 12,
   "id": "29857e0a-8ee8-43fe-b64a-f1693efce49f",
   "metadata": {},
   "outputs": [
    {
     "data": {
      "text/plain": [
       "<All keys matched successfully>"
      ]
     },
     "execution_count": 12,
     "metadata": {},
     "output_type": "execute_result"
    }
   ],
   "source": [
    "model = NeuralNetwork().to(device)\n",
    "model.load_state_dict(torch.load(\"model.pth\", weights_only=True))"
   ]
  },
  {
   "cell_type": "markdown",
   "id": "573aed94-c892-4c04-ac61-c466ccc7a490",
   "metadata": {},
   "source": [
    "## Prediction"
   ]
  },
  {
   "cell_type": "code",
   "execution_count": 13,
   "id": "21d4eef2-4040-4e3c-be7c-7f89e14c56b8",
   "metadata": {},
   "outputs": [
    {
     "name": "stdout",
     "output_type": "stream",
     "text": [
      "Predicted: \"Ankle boot\", Actual: \"Ankle boot\"\n"
     ]
    }
   ],
   "source": [
    "classes = [\n",
    "    \"T-shirt/top\",\n",
    "    \"Trouser\",\n",
    "    \"Pullover\",\n",
    "    \"Dress\",\n",
    "    \"Coat\",\n",
    "    \"Sandal\",\n",
    "    \"Shirt\",\n",
    "    \"Sneaker\",\n",
    "    \"Bag\",\n",
    "    \"Ankle boot\",\n",
    "]\n",
    "\n",
    "model.eval()\n",
    "x, y = test_data[0][0], test_data[0][1]\n",
    "with torch.no_grad():\n",
    "    x = x.to(device)\n",
    "    pred = model(x)\n",
    "    predicted, actual = classes[pred[0].argmax(0)], classes[y]\n",
    "    print(f'Predicted: \"{predicted}\", Actual: \"{actual}\"')"
   ]
  },
  {
   "cell_type": "code",
   "execution_count": null,
   "id": "bd261feb-d4a0-48c0-a675-9ac446573f9c",
   "metadata": {},
   "outputs": [],
   "source": []
  }
 ],
 "metadata": {
  "kernelspec": {
   "display_name": "Python 3 (ipykernel)",
   "language": "python",
   "name": "python3"
  },
  "language_info": {
   "codemirror_mode": {
    "name": "ipython",
    "version": 3
   },
   "file_extension": ".py",
   "mimetype": "text/x-python",
   "name": "python",
   "nbconvert_exporter": "python",
   "pygments_lexer": "ipython3",
   "version": "3.11.5"
  }
 },
 "nbformat": 4,
 "nbformat_minor": 5
}
